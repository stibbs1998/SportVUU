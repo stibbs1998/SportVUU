{
 "cells": [
  {
   "cell_type": "code",
   "execution_count": null,
   "metadata": {
    "collapsed": true
   },
   "outputs": [],
   "source": [
    "import numpy as np\n",
    "import matplotlib.pylab as plt\n",
    "import xml.etree.ElementTree as ET\n",
    "%matplotlib notebook\n",
    "\n",
    "import matplotlib as mpl\n",
    "from mpl_toolkits.mplot3d import Axes3D"
   ]
  },
  {
   "cell_type": "code",
   "execution_count": null,
   "metadata": {
    "collapsed": true
   },
   "outputs": [],
   "source": [
    "tree = ET.parse(\"quarter1.XML\")\n",
    "root = tree.getroot()\n",
    "sequences = root[0][4][0][11]"
   ]
  },
  {
   "cell_type": "code",
   "execution_count": null,
   "metadata": {
    "collapsed": true
   },
   "outputs": [],
   "source": [
    "players = []\n",
    "for i in range(0,11):\n",
    "    players.append([])\n",
    "\n",
    "for s in sequences:\n",
    "    t = s.get('game-clock')\n",
    "    locs = s.get('locations')\n",
    "    \n",
    "    locs = locs.split(';')\n",
    "    \n",
    "    for i in range(0,11):\n",
    "        if len(locs)>10:\n",
    "            vals = locs[i].split(',')\n",
    "            players[i].append([int(vals[0]),int(vals[1]),float(vals[2]),float(vals[3]),float(vals[4]),float(t)])"
   ]
  },
  {
   "cell_type": "code",
   "execution_count": null,
   "metadata": {
    "collapsed": true
   },
   "outputs": [],
   "source": [
    "p = np.array(players)"
   ]
  },
  {
   "cell_type": "code",
   "execution_count": null,
   "metadata": {
    "collapsed": true
   },
   "outputs": [],
   "source": [
    "ball=p[0]"
   ]
  },
  {
   "cell_type": "code",
   "execution_count": null,
   "metadata": {
    "collapsed": false
   },
   "outputs": [],
   "source": [
    "x = ball.transpose()[2]\n",
    "y = ball.transpose()[3]\n",
    "z = ball.transpose()[4]\n",
    "print(len(x))"
   ]
  },
  {
   "cell_type": "code",
   "execution_count": null,
   "metadata": {
    "collapsed": false,
    "scrolled": false
   },
   "outputs": [],
   "source": [
    "start = 0\n",
    "stop = 1200\n",
    "\n",
    "fig = plt.figure(figsize=(12,6))\n",
    "ax = fig.gca(projection='3d')\n",
    "ax.plot(x[start:stop], y[start:stop], z[start:stop], label='parametric curve',color='orange')\n"
   ]
  },
  {
   "cell_type": "code",
   "execution_count": null,
   "metadata": {
    "collapsed": false
   },
   "outputs": [],
   "source": [
    "plt.figure()\n",
    "index1 = z>9.85\n",
    "index2 = z<10.15\n",
    "\n",
    "index = index1*index2\n",
    "\n",
    "print(index)\n",
    "plt.plot(x[index],y[index],'ko')"
   ]
  },
  {
   "cell_type": "code",
   "execution_count": null,
   "metadata": {
    "collapsed": true
   },
   "outputs": [],
   "source": [
    "# Find all the unique players\n",
    "\n",
    "# Team 1\n",
    "ids1 = []\n",
    "for i in range(1,6):\n",
    "    ids1 += p[i].transpose()[1].astype(int).tolist()\n",
    "    \n",
    "# Team 2\n",
    "ids2 = []\n",
    "for i in range(6,11):\n",
    "    ids2 += p[i].transpose()[1].astype(int).tolist()    "
   ]
  },
  {
   "cell_type": "code",
   "execution_count": null,
   "metadata": {
    "collapsed": true
   },
   "outputs": [],
   "source": [
    "print(len(ids1))\n",
    "team1 = np.unique(ids1)\n",
    "print(team1)\n",
    "\n",
    "print(len(ids2))\n",
    "team2 = np.unique(ids2)\n",
    "print(team2)\n"
   ]
  },
  {
   "cell_type": "code",
   "execution_count": null,
   "metadata": {
    "collapsed": true
   },
   "outputs": [],
   "source": [
    "player_mapping = np.loadtxt('player_ids.csv',unpack=True,skiprows=1,dtype=bytes,delimiter=',')\n",
    "print(player_mapping[0][0:10])\n",
    "print(player_mapping[1][0:10])"
   ]
  },
  {
   "cell_type": "code",
   "execution_count": null,
   "metadata": {
    "collapsed": true
   },
   "outputs": [],
   "source": [
    "print(\"Team 1\")\n",
    "print(\"----------\")\n",
    "for ids in team1:\n",
    "    name = player_mapping[1][player_mapping[0].astype(float).tolist().index(ids)]\n",
    "    print(name.decode())\n",
    "    \n",
    "print(\"\\nTeam 2\")\n",
    "print(\"----------\")\n",
    "for ids in team2:\n",
    "    name = player_mapping[1][player_mapping[0].astype(float).tolist().index(ids)]\n",
    "    print(name.decode())\n",
    "    \n"
   ]
  },
  {
   "cell_type": "code",
   "execution_count": null,
   "metadata": {
    "collapsed": true
   },
   "outputs": [],
   "source": [
    "def pid2name(pid,player_mapping):\n",
    "    name = player_mapping[1][player_mapping[0].astype(int).tolist().index(pid)]\n",
    "    return name.decode()\n",
    "\n",
    "print(pid2name(3234,player_mapping))\n"
   ]
  },
  {
   "cell_type": "code",
   "execution_count": null,
   "metadata": {
    "collapsed": true
   },
   "outputs": [],
   "source": [
    "team1_players = []\n",
    "for i in range(0,len(team1)):\n",
    "    team1_players.append([])\n",
    "    for k in range(0,6):\n",
    "        team1_players[i].append([])\n",
    "    \n",
    "    for j in range(1,6):\n",
    "        #team1_players[i].append()\n",
    "        pid = p[j].transpose()[1].astype(int)\n",
    "        x = p[j].transpose()[2].astype(float)\n",
    "        y = p[j].transpose()[3].astype(float)\n",
    "        z = p[j].transpose()[4].astype(float)\n",
    "        t = 720 - p[j].transpose()[5].astype(float)\n",
    "\n",
    "        index = team1[i] == pid\n",
    "        \n",
    "        team1_players[i][0] += pid[index].tolist()\n",
    "        team1_players[i][1] += x[index].tolist()\n",
    "        team1_players[i][2] += y[index].tolist()\n",
    "        team1_players[i][3] += z[index].tolist()\n",
    "        team1_players[i][4] += t[index].tolist()\n",
    "\n",
    "    # Do this to sort everyone, according to the last entry, time\n",
    "    sort_index = np.argsort(team1_players[i][4])\n",
    "    \n",
    "    for k in range(0,5):\n",
    "        team1_players[i][k] = np.array(team1_players[i][k])[sort_index]\n",
    "    \n",
    "        \n",
    "        "
   ]
  },
  {
   "cell_type": "code",
   "execution_count": null,
   "metadata": {
    "collapsed": true
   },
   "outputs": [],
   "source": [
    "team1_players[0]"
   ]
  },
  {
   "cell_type": "code",
   "execution_count": null,
   "metadata": {
    "collapsed": true
   },
   "outputs": [],
   "source": [
    "start = 0\n",
    "stop = 1200\n",
    "\n",
    "fig = plt.figure(figsize=(12,6))\n",
    "ax = fig.gca(projection='3d')\n",
    "x = team1_players[0][1]\n",
    "y = team1_players[0][2]\n",
    "z = team1_players[0][3]\n",
    "\n",
    "ax.plot(x[start:stop], y[start:stop], z[start:stop], '.', label='Dirk',color='blue',markersize=1)\n"
   ]
  },
  {
   "cell_type": "code",
   "execution_count": null,
   "metadata": {
    "collapsed": true
   },
   "outputs": [],
   "source": [
    "fig = plt.figure(figsize=(10,5))\n",
    "x = team1_players[0][1]\n",
    "y = team1_players[0][2]\n",
    "z = team1_players[0][3]\n",
    "t = team1_players[0][4]\n",
    "\n",
    "\n",
    "plt.plot(t, x,'.')\n",
    "plt.xlim(0,720)"
   ]
  },
  {
   "cell_type": "code",
   "execution_count": null,
   "metadata": {
    "collapsed": true,
    "scrolled": true
   },
   "outputs": [],
   "source": [
    "# Add in velocities\n",
    "for i in range(0,len(team1_players)):\n",
    "    t = team1_players[i][4]\n",
    "    x = team1_players[i][1]\n",
    "    y = team1_players[i][2]\n",
    "    z = team1_players[i][3]\n",
    "    v = np.zeros(len(team1_players[i][4]))\n",
    "\n",
    "    dt = t[2:] - t[0:-2]\n",
    "    dx = x[2:] - x[0:-2]\n",
    "    dy = y[2:] - y[0:-2]\n",
    "    dz = z[2:] - z[0:-2]\n",
    "    \n",
    "    dist = np.sqrt(dx*dx + dy*dy + dz*dz)\n",
    "    \n",
    "    v[1:-1] = dist/dt\n",
    "    \n",
    "    # Remove excessively high speeds\n",
    "    v[v>20] = 0.0\n",
    "    \n",
    "    team1_players[i][5] = v"
   ]
  },
  {
   "cell_type": "code",
   "execution_count": null,
   "metadata": {
    "collapsed": true,
    "scrolled": false
   },
   "outputs": [],
   "source": [
    "plt.figure()\n",
    "t = team1_players[0][4]\n",
    "v = team1_players[0][5]\n",
    "print(len(team1_players[0]),len(t),len(v))\n",
    "print(v)\n",
    "plt.plot(t,v)\n",
    "plt.xlim(0,720)"
   ]
  },
  {
   "cell_type": "code",
   "execution_count": null,
   "metadata": {
    "collapsed": true,
    "scrolled": false
   },
   "outputs": [],
   "source": [
    "plt.figure(figsize=(10,5))\n",
    "\n",
    "for i in range(len(team1_players)):\n",
    "    \n",
    "    pid = team1_players[i][0][0]\n",
    "    \n",
    "    name = pid2name(pid,player_mapping)\n",
    "    \n",
    "    print(pid,name)\n",
    "    \n",
    "    pcts = []\n",
    "    cutoffs = np.arange(0,22,0.1)\n",
    "    for cutoff in cutoffs:\n",
    "        v = team1_players[i][5]\n",
    "        tot = len(v[v>0])\n",
    "\n",
    "        pct = len(v[v>cutoff])/float(tot)\n",
    "\n",
    "        pcts.append(pct)\n",
    "\n",
    "    plt.plot(cutoffs,pcts,label=name,linewidth=3)\n",
    "plt.legend()"
   ]
  },
  {
   "cell_type": "code",
   "execution_count": null,
   "metadata": {
    "collapsed": true
   },
   "outputs": [],
   "source": []
  }
 ],
 "metadata": {
  "kernelspec": {
   "display_name": "Python [default]",
   "language": "python",
   "name": "python3"
  },
  "language_info": {
   "codemirror_mode": {
    "name": "ipython",
    "version": 3
   },
   "file_extension": ".py",
   "mimetype": "text/x-python",
   "name": "python",
   "nbconvert_exporter": "python",
   "pygments_lexer": "ipython3",
   "version": "3.5.2"
  }
 },
 "nbformat": 4,
 "nbformat_minor": 2
}
